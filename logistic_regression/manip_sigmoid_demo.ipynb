{
 "cells": [
  {
   "cell_type": "code",
   "execution_count": 1,
   "metadata": {},
   "outputs": [],
   "source": [
    "# Sigmoid function calculation for a matrix X\n",
    "\n",
    "# sigma(z) = 1/(1 + np.exp(-z))\n",
    "\n",
    "import numpy as np"
   ]
  },
  {
   "cell_type": "code",
   "execution_count": 4,
   "metadata": {},
   "outputs": [
    {
     "name": "stdout",
     "output_type": "stream",
     "text": [
      "[0.27329049 0.67225352 0.54123609 0.02664366 0.81302073 0.08753497\n",
      " 0.26339307 0.55046444 0.5237966  0.16416735 0.7482319  0.04358776\n",
      " 0.10783872 0.14032642 0.63918958 0.34621737 0.16322134 0.15194772\n",
      " 0.28478353 0.02657703 0.52216287 0.01514322 0.05040267 0.48632306\n",
      " 0.58024047 0.82476095 0.50416009 0.3366067  0.01800624 0.66508318\n",
      " 0.03340537 0.60489545 0.63987708 0.17618019 0.92079206 0.41180683\n",
      " 0.32798977 0.59568472 0.5915448  0.22303714 0.38877071 0.72553929\n",
      " 0.13669968 0.10464444 0.14281857 0.27443504 0.16312281 0.64719312\n",
      " 0.47735937 0.02305392 0.07244905 0.68640457 0.20764283 0.08090822\n",
      " 0.00722586 0.49416816 0.08772952 0.19623233 0.14728644 0.30474571\n",
      " 0.12745789 0.17485963 0.04426822 0.90782053 0.85139872 0.02365695\n",
      " 0.42023869 0.14828693 0.79110541 0.2040296  0.17897879 0.26351369\n",
      " 0.32666384 0.30835378 0.04128135 0.29453549 0.40053476 0.49324663\n",
      " 0.59145011 0.12033536 0.81760613 0.41979912 0.16358054 0.55784178\n",
      " 0.33683894 0.0935288  0.07740613 0.14766028 0.73555574 0.05195599\n",
      " 0.46671572 0.87296379 0.02897873 0.08714872 0.18254777 0.02656381\n",
      " 0.0485596  0.18143201 0.85795388 0.19278032]\n"
     ]
    }
   ],
   "source": [
    "N = 100\n",
    "D = 2\n",
    "\n",
    "# # the data X and weight matrix w are randomly generated from a\n",
    "# standard normal distribution.\n",
    "\n",
    "X = np.random.randn(N,D)\n",
    "ones = np.ones((N, 1))\n",
    "Xb = np.concatenate((ones, X), axis=1)\n",
    "\n",
    "w = np.random.randn(D + 1)\n",
    "\n",
    "# z = w0 + w1X[1] + w2X[2] + ... + wDX[D]\n",
    "\n",
    "# Xb is a matrix (100, 3)\n",
    "# w is an array (3,1)\n",
    "# => z is (100,1) array\n",
    "\n",
    "# Two ways to calculate:\n",
    "#z = Xb.dot(w)\n",
    "z = w.dot(Xb.T)\n",
    "\n",
    "\n",
    "def sigmoid(z):\n",
    "    return 1/(1 + np.exp(-z))\n",
    "\n",
    "# an array of 100 numbers between 0 and 1, calculated for each weighted member of X\n",
    "print(sigmoid(z))"
   ]
  },
  {
   "cell_type": "code",
   "execution_count": null,
   "metadata": {},
   "outputs": [],
   "source": []
  }
 ],
 "metadata": {
  "kernelspec": {
   "display_name": "Python 3",
   "language": "python",
   "name": "python3"
  },
  "language_info": {
   "codemirror_mode": {
    "name": "ipython",
    "version": 3
   },
   "file_extension": ".py",
   "mimetype": "text/x-python",
   "name": "python",
   "nbconvert_exporter": "python",
   "pygments_lexer": "ipython3",
   "version": "3.7.3"
  }
 },
 "nbformat": 4,
 "nbformat_minor": 2
}
