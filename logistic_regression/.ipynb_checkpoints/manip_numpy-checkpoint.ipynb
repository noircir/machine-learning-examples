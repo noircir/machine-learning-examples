{
 "cells": [
  {
   "cell_type": "code",
   "execution_count": 94,
   "metadata": {},
   "outputs": [],
   "source": [
    "import numpy as np\n",
    "import pandas as pd\n",
    "import matplotlib.pyplot as plt\n",
    "%matplotlib inline"
   ]
  },
  {
   "cell_type": "code",
   "execution_count": 3,
   "metadata": {},
   "outputs": [],
   "source": [
    "a = np.array([1,2])\n",
    "b = np.array([2,1])"
   ]
  },
  {
   "cell_type": "code",
   "execution_count": 4,
   "metadata": {},
   "outputs": [],
   "source": [
    "dot = 0\n",
    "\n",
    "# element-wise multiplication and summation\n",
    "for e,f in zip(a,b):\n",
    "    dot += e*f"
   ]
  },
  {
   "cell_type": "code",
   "execution_count": 5,
   "metadata": {},
   "outputs": [
    {
     "data": {
      "text/plain": [
       "4"
      ]
     },
     "execution_count": 5,
     "metadata": {},
     "output_type": "execute_result"
    }
   ],
   "source": [
    "dot"
   ]
  },
  {
   "cell_type": "code",
   "execution_count": 6,
   "metadata": {},
   "outputs": [
    {
     "data": {
      "text/plain": [
       "array([2, 2])"
      ]
     },
     "execution_count": 6,
     "metadata": {},
     "output_type": "execute_result"
    }
   ],
   "source": [
    "a*b"
   ]
  },
  {
   "cell_type": "code",
   "execution_count": 7,
   "metadata": {},
   "outputs": [
    {
     "data": {
      "text/plain": [
       "4"
      ]
     },
     "execution_count": 7,
     "metadata": {},
     "output_type": "execute_result"
    }
   ],
   "source": [
    "np.sum(a*b)"
   ]
  },
  {
   "cell_type": "code",
   "execution_count": 8,
   "metadata": {},
   "outputs": [
    {
     "data": {
      "text/plain": [
       "4"
      ]
     },
     "execution_count": 8,
     "metadata": {},
     "output_type": "execute_result"
    }
   ],
   "source": [
    "(a*b).sum()"
   ]
  },
  {
   "cell_type": "code",
   "execution_count": 9,
   "metadata": {},
   "outputs": [
    {
     "data": {
      "text/plain": [
       "4"
      ]
     },
     "execution_count": 9,
     "metadata": {},
     "output_type": "execute_result"
    }
   ],
   "source": [
    "# but more convenient method to calculate dot product\n",
    "a.dot(b)"
   ]
  },
  {
   "cell_type": "code",
   "execution_count": 21,
   "metadata": {},
   "outputs": [
    {
     "name": "stdout",
     "output_type": "stream",
     "text": [
      "2.23606797749979 \t 2.23606797749979\n"
     ]
    }
   ],
   "source": [
    "# to calculate the angle between a and b\n",
    "# cos(theta) = a.dot(b) / mod(a)mod(b)\n",
    "# mod: either\n",
    "\n",
    "mod1 = np.sqrt( (a*a).sum())\n",
    "#or with numpy\n",
    "\n",
    "mod2 = np.linalg.norm(a)\n",
    "print(mod1,'\\t',mod2)"
   ]
  },
  {
   "cell_type": "code",
   "execution_count": 22,
   "metadata": {},
   "outputs": [
    {
     "data": {
      "text/plain": [
       "0.7999999999999998"
      ]
     },
     "execution_count": 22,
     "metadata": {},
     "output_type": "execute_result"
    }
   ],
   "source": [
    "cosangle = a.dot(b) / (np.linalg.norm(a) * np.linalg.norm(b))\n",
    "cosangle"
   ]
  },
  {
   "cell_type": "code",
   "execution_count": 24,
   "metadata": {},
   "outputs": [
    {
     "data": {
      "text/plain": [
       "0.6435011087932847"
      ]
     },
     "execution_count": 24,
     "metadata": {},
     "output_type": "execute_result"
    }
   ],
   "source": [
    "#actual angle\n",
    "angle = np.arccos(cosangle)\n",
    "angle"
   ]
  },
  {
   "cell_type": "code",
   "execution_count": 27,
   "metadata": {},
   "outputs": [
    {
     "name": "stdout",
     "output_type": "stream",
     "text": [
      "dt1 / dt2: 66.69367889809276\n"
     ]
    }
   ],
   "source": [
    "# comparison of dot multiplication in pure Python and numpy\n",
    "from datetime import datetime\n",
    "\n",
    "a = np.random.randn(100)\n",
    "b = np.random.randn(100)\n",
    "T = 100000\n",
    "\n",
    "def slow_dot_product(a, b):\n",
    "    result = 0\n",
    "    for e, f in zip(a, b):\n",
    "        result += e*f\n",
    "    return result\n",
    "\n",
    "t0 = datetime.now()\n",
    "for t in range(T):\n",
    "    slow_dot_product(a, b)\n",
    "dt1 = datetime.now() - t0\n",
    "\n",
    "t0 = datetime.now()\n",
    "for t in range(T):\n",
    "    a.dot(b)\n",
    "dt2 = datetime.now() - t0\n",
    "\n",
    "print(\"dt1 / dt2:\", dt1.total_seconds() / dt2.total_seconds())"
   ]
  },
  {
   "cell_type": "markdown",
   "metadata": {},
   "source": [
    "## Matrices"
   ]
  },
  {
   "cell_type": "code",
   "execution_count": 28,
   "metadata": {},
   "outputs": [],
   "source": [
    "M =np.array( [ [1,2], [3,4] ] )\n",
    "L = [ [1,2], [3,4] ]"
   ]
  },
  {
   "cell_type": "code",
   "execution_count": 29,
   "metadata": {},
   "outputs": [
    {
     "data": {
      "text/plain": [
       "1"
      ]
     },
     "execution_count": 29,
     "metadata": {},
     "output_type": "execute_result"
    }
   ],
   "source": [
    "L[0][0]"
   ]
  },
  {
   "cell_type": "code",
   "execution_count": 30,
   "metadata": {},
   "outputs": [
    {
     "data": {
      "text/plain": [
       "1"
      ]
     },
     "execution_count": 30,
     "metadata": {},
     "output_type": "execute_result"
    }
   ],
   "source": [
    "M[0][0]"
   ]
  },
  {
   "cell_type": "code",
   "execution_count": 32,
   "metadata": {},
   "outputs": [
    {
     "data": {
      "text/plain": [
       "1"
      ]
     },
     "execution_count": 32,
     "metadata": {},
     "output_type": "execute_result"
    }
   ],
   "source": [
    "# shortcut in numpy\n",
    "M[0,0]"
   ]
  },
  {
   "cell_type": "code",
   "execution_count": 33,
   "metadata": {},
   "outputs": [
    {
     "data": {
      "text/plain": [
       "array([[1, 2],\n",
       "       [3, 4]])"
      ]
     },
     "execution_count": 33,
     "metadata": {},
     "output_type": "execute_result"
    }
   ],
   "source": [
    "M"
   ]
  },
  {
   "cell_type": "code",
   "execution_count": 34,
   "metadata": {},
   "outputs": [
    {
     "data": {
      "text/plain": [
       "array([[1, 3],\n",
       "       [2, 4]])"
      ]
     },
     "execution_count": 34,
     "metadata": {},
     "output_type": "execute_result"
    }
   ],
   "source": [
    "M.T"
   ]
  },
  {
   "cell_type": "markdown",
   "metadata": {},
   "source": [
    "## Generating matrices"
   ]
  },
  {
   "cell_type": "code",
   "execution_count": 35,
   "metadata": {},
   "outputs": [
    {
     "data": {
      "text/plain": [
       "array([0., 0., 0., 0., 0., 0., 0., 0., 0., 0.])"
      ]
     },
     "execution_count": 35,
     "metadata": {},
     "output_type": "execute_result"
    }
   ],
   "source": [
    "Z = np.zeros(10)\n",
    "Z"
   ]
  },
  {
   "cell_type": "code",
   "execution_count": 39,
   "metadata": {},
   "outputs": [
    {
     "data": {
      "text/plain": [
       "array([[0., 0., 0., 0., 0., 0., 0., 0., 0., 0.],\n",
       "       [0., 0., 0., 0., 0., 0., 0., 0., 0., 0.],\n",
       "       [0., 0., 0., 0., 0., 0., 0., 0., 0., 0.],\n",
       "       [0., 0., 0., 0., 0., 0., 0., 0., 0., 0.],\n",
       "       [0., 0., 0., 0., 0., 0., 0., 0., 0., 0.],\n",
       "       [0., 0., 0., 0., 0., 0., 0., 0., 0., 0.],\n",
       "       [0., 0., 0., 0., 0., 0., 0., 0., 0., 0.],\n",
       "       [0., 0., 0., 0., 0., 0., 0., 0., 0., 0.],\n",
       "       [0., 0., 0., 0., 0., 0., 0., 0., 0., 0.],\n",
       "       [0., 0., 0., 0., 0., 0., 0., 0., 0., 0.]])"
      ]
     },
     "execution_count": 39,
     "metadata": {},
     "output_type": "execute_result"
    }
   ],
   "source": [
    "np.zeros((10,10))"
   ]
  },
  {
   "cell_type": "code",
   "execution_count": 40,
   "metadata": {},
   "outputs": [
    {
     "data": {
      "text/plain": [
       "array([[1., 1., 1., 1., 1., 1., 1., 1., 1., 1.],\n",
       "       [1., 1., 1., 1., 1., 1., 1., 1., 1., 1.],\n",
       "       [1., 1., 1., 1., 1., 1., 1., 1., 1., 1.],\n",
       "       [1., 1., 1., 1., 1., 1., 1., 1., 1., 1.],\n",
       "       [1., 1., 1., 1., 1., 1., 1., 1., 1., 1.],\n",
       "       [1., 1., 1., 1., 1., 1., 1., 1., 1., 1.],\n",
       "       [1., 1., 1., 1., 1., 1., 1., 1., 1., 1.],\n",
       "       [1., 1., 1., 1., 1., 1., 1., 1., 1., 1.],\n",
       "       [1., 1., 1., 1., 1., 1., 1., 1., 1., 1.],\n",
       "       [1., 1., 1., 1., 1., 1., 1., 1., 1., 1.]])"
      ]
     },
     "execution_count": 40,
     "metadata": {},
     "output_type": "execute_result"
    }
   ],
   "source": [
    "np.ones((10,10))"
   ]
  },
  {
   "cell_type": "code",
   "execution_count": 93,
   "metadata": {},
   "outputs": [
    {
     "data": {
      "text/plain": [
       "array([[0.33219049, 0.55260608, 0.2671155 , 0.47082068, 0.70056656,\n",
       "        0.93989233, 0.25400876, 0.9919272 , 0.35587964, 0.43518195],\n",
       "       [0.11365981, 0.40676603, 0.13065147, 0.26055338, 0.35466594,\n",
       "        0.79409829, 0.21764104, 0.98552202, 0.924114  , 0.40575181],\n",
       "       [0.62911043, 0.66204153, 0.66500748, 0.33772497, 0.9429749 ,\n",
       "        0.0352075 , 0.80594298, 0.94969043, 0.07240098, 0.5434589 ],\n",
       "       [0.29747874, 0.14219199, 0.89437073, 0.5543459 , 0.60513329,\n",
       "        0.59156265, 0.55639163, 0.6849597 , 0.81877992, 0.3985083 ],\n",
       "       [0.76981955, 0.15389917, 0.85113107, 0.05791926, 0.27404303,\n",
       "        0.55137099, 0.52748254, 0.30441172, 0.2726766 , 0.09259527],\n",
       "       [0.91781135, 0.47743986, 0.16961718, 0.75700621, 0.21316327,\n",
       "        0.69726609, 0.51246965, 0.47372803, 0.0662559 , 0.09237236],\n",
       "       [0.38161019, 0.01518969, 0.91499982, 0.10825899, 0.17857343,\n",
       "        0.25346992, 0.59667958, 0.05203099, 0.84632873, 0.01131784],\n",
       "       [0.01358848, 0.49064241, 0.96135557, 0.50850163, 0.81240179,\n",
       "        0.52923563, 0.07765335, 0.36084779, 0.12296941, 0.24019706],\n",
       "       [0.79513566, 0.99293899, 0.06948117, 0.69768872, 0.66925511,\n",
       "        0.34518223, 0.16359051, 0.97453791, 0.19363224, 0.89541496],\n",
       "       [0.01704944, 0.58769623, 0.53835622, 0.31519689, 0.49898433,\n",
       "        0.69608108, 0.71751584, 0.62614186, 0.3041292 , 0.99291825]])"
      ]
     },
     "execution_count": 93,
     "metadata": {},
     "output_type": "execute_result"
    }
   ],
   "source": [
    "# uniformy distributed random numbers between 0 and 1\n",
    "R = np.random.random((10,10))\n",
    "R"
   ]
  },
  {
   "cell_type": "code",
   "execution_count": 95,
   "metadata": {},
   "outputs": [
    {
     "data": {
      "text/plain": [
       "([array([2., 1., 1., 2., 0., 0., 1., 2., 0., 1.]),\n",
       "  array([1., 2., 0., 0., 3., 2., 1., 0., 0., 1.]),\n",
       "  array([1., 2., 1., 0., 0., 1., 1., 0., 2., 2.]),\n",
       "  array([2., 0., 1., 2., 1., 2., 1., 1., 0., 0.]),\n",
       "  array([0., 1., 2., 1., 1., 0., 2., 1., 1., 1.]),\n",
       "  array([1., 0., 1., 1., 0., 3., 2., 1., 0., 1.]),\n",
       "  array([1., 1., 2., 0., 0., 4., 0., 1., 1., 0.]),\n",
       "  array([1., 0., 1., 1., 1., 0., 2., 0., 0., 4.]),\n",
       "  array([2., 2., 2., 1., 0., 0., 0., 0., 2., 1.]),\n",
       "  array([3., 0., 1., 1., 2., 1., 0., 0., 0., 2.])],\n",
       " array([0.01131784, 0.10947995, 0.20764207, 0.30580418, 0.4039663 ,\n",
       "        0.50212841, 0.60029053, 0.69845264, 0.79661476, 0.89477688,\n",
       "        0.99293899]),\n",
       " <a list of 10 Lists of Patches objects>)"
      ]
     },
     "execution_count": 95,
     "metadata": {},
     "output_type": "execute_result"
    },
    {
     "data": {
      "image/png": "[encoded data removed]",
      "text/plain": [
       "<Figure size 432x288 with 1 Axes>"
      ]
     },
     "metadata": {
      "needs_background": "light"
     },
     "output_type": "display_data"
    }
   ],
   "source": [
    "plt.hist(R)"
   ]
  },
  {
   "cell_type": "code",
   "execution_count": 47,
   "metadata": {},
   "outputs": [
    {
     "data": {
      "text/plain": [
       "array([[ 0.73188622, -1.59982381, -0.30720628, -1.60659428,  0.47549569,\n",
       "        -1.30784774,  1.42229653, -0.14055968,  1.99349327,  1.22256702],\n",
       "       [-0.71711426,  1.6513764 ,  2.1056581 , -1.44632515,  1.75477146,\n",
       "        -0.93705215, -0.26554711, -0.00333454, -1.14425685, -0.3030136 ],\n",
       "       [ 0.62811539,  0.86157233, -1.94211802,  1.2154062 ,  1.21789102,\n",
       "        -1.2808536 ,  0.11788043,  0.74700959,  2.33706783, -1.70560959],\n",
       "       [ 1.16386376,  0.91645434, -1.24690709, -0.16015681,  0.47942987,\n",
       "        -0.4736977 ,  1.42322672, -0.10657925,  0.46431553, -1.61222804],\n",
       "       [ 0.41030541, -0.59263669, -1.16689862,  0.25063385,  1.28594067,\n",
       "        -1.36472022, -2.25359213, -0.40774018, -0.06922271,  0.95971387],\n",
       "       [ 0.15187983,  0.45071761,  1.00891444,  0.3665803 ,  0.6652766 ,\n",
       "        -0.13424864, -0.60411798, -0.20983447,  0.33091676,  0.71240209],\n",
       "       [-0.23810386, -1.56370046,  1.42429838,  0.3953308 , -0.99390942,\n",
       "         1.78304835, -1.35627382,  0.01539746, -1.08790811, -0.91708521],\n",
       "       [-0.07543607, -1.70523174,  0.47856077,  0.13695319,  0.99451756,\n",
       "         0.65494767, -0.35641342, -0.95682217,  0.020099  ,  0.88768863],\n",
       "       [-0.46822784,  0.32794623,  0.18757365, -1.29206228, -0.96212584,\n",
       "         2.14555443, -1.43942857,  0.25183995,  1.85361641,  0.20397245],\n",
       "       [ 0.4408373 , -0.96808971, -1.75553466, -0.7087989 ,  0.08391257,\n",
       "         0.25880326,  1.57569499,  0.98298187,  1.29431311,  1.49588277]])"
      ]
     },
     "execution_count": 47,
     "metadata": {},
     "output_type": "execute_result"
    }
   ],
   "source": [
    "# Gaussian destribution (mean=10, variance=1) \n",
    "# Pass each dimension separately, not as tuple (just for this Guassian distribution)\n",
    "G = np.random.randn(10,10)\n",
    "G"
   ]
  },
  {
   "cell_type": "code",
   "execution_count": 48,
   "metadata": {},
   "outputs": [
    {
     "data": {
      "text/plain": [
       "0.05461840685608766"
      ]
     },
     "execution_count": 48,
     "metadata": {},
     "output_type": "execute_result"
    }
   ],
   "source": [
    "G.mean()"
   ]
  },
  {
   "cell_type": "code",
   "execution_count": 50,
   "metadata": {},
   "outputs": [
    {
     "data": {
      "text/plain": [
       "1.1659936496573942"
      ]
     },
     "execution_count": 50,
     "metadata": {},
     "output_type": "execute_result"
    }
   ],
   "source": [
    "G.var()"
   ]
  },
  {
   "cell_type": "markdown",
   "metadata": {},
   "source": [
    "### Matrix products"
   ]
  },
  {
   "cell_type": "code",
   "execution_count": 52,
   "metadata": {},
   "outputs": [
    {
     "data": {
      "text/plain": [
       "array([[1, 2],\n",
       "       [3, 4]])"
      ]
     },
     "execution_count": 52,
     "metadata": {},
     "output_type": "execute_result"
    }
   ],
   "source": [
    "A = np.array([ [1,2], [3,4]])\n",
    "A"
   ]
  },
  {
   "cell_type": "code",
   "execution_count": 53,
   "metadata": {},
   "outputs": [
    {
     "data": {
      "text/plain": [
       "array([[-2. ,  1. ],\n",
       "       [ 1.5, -0.5]])"
      ]
     },
     "execution_count": 53,
     "metadata": {},
     "output_type": "execute_result"
    }
   ],
   "source": [
    "Ainv = np.linalg.inv(A)\n",
    "Ainv"
   ]
  },
  {
   "cell_type": "code",
   "execution_count": 54,
   "metadata": {},
   "outputs": [
    {
     "data": {
      "text/plain": [
       "array([[1.00000000e+00, 1.11022302e-16],\n",
       "       [0.00000000e+00, 1.00000000e+00]])"
      ]
     },
     "execution_count": 54,
     "metadata": {},
     "output_type": "execute_result"
    }
   ],
   "source": [
    "# check that they are indeed inverse (multiplication gives an identity matrix)\n",
    "A.dot(Ainv)"
   ]
  },
  {
   "cell_type": "code",
   "execution_count": 57,
   "metadata": {},
   "outputs": [
    {
     "data": {
      "text/plain": [
       "-2.0000000000000004"
      ]
     },
     "execution_count": 57,
     "metadata": {},
     "output_type": "execute_result"
    }
   ],
   "source": [
    "np.linalg.det(A)"
   ]
  },
  {
   "cell_type": "code",
   "execution_count": 58,
   "metadata": {},
   "outputs": [
    {
     "data": {
      "text/plain": [
       "array([1, 4])"
      ]
     },
     "execution_count": 58,
     "metadata": {},
     "output_type": "execute_result"
    }
   ],
   "source": [
    "np.diag(A)"
   ]
  },
  {
   "cell_type": "code",
   "execution_count": 59,
   "metadata": {},
   "outputs": [
    {
     "data": {
      "text/plain": [
       "array([[1, 0],\n",
       "       [0, 2]])"
      ]
     },
     "execution_count": 59,
     "metadata": {},
     "output_type": "execute_result"
    }
   ],
   "source": [
    "np.diag([1,2])"
   ]
  },
  {
   "cell_type": "markdown",
   "metadata": {},
   "source": [
    "## Eigenvalues and eigenvectors"
   ]
  },
  {
   "cell_type": "code",
   "execution_count": 61,
   "metadata": {},
   "outputs": [
    {
     "data": {
      "text/plain": [
       "(100, 100)"
      ]
     },
     "execution_count": 61,
     "metadata": {},
     "output_type": "execute_result"
    }
   ],
   "source": [
    "X = np.random.randn(100,3)\n",
    "cov = np.cov(X)\n",
    "cov.shape"
   ]
  },
  {
   "cell_type": "code",
   "execution_count": 64,
   "metadata": {},
   "outputs": [
    {
     "data": {
      "text/plain": [
       "array([[ 0.87965714, -0.06113585, -0.04533245],\n",
       "       [-0.06113585,  1.05700452, -0.10977097],\n",
       "       [-0.04533245, -0.10977097,  1.13778254]])"
      ]
     },
     "execution_count": 64,
     "metadata": {},
     "output_type": "execute_result"
    }
   ],
   "source": [
    "# that is incorrect, covariance matrix should be 3x3\n",
    "# always transpose first\n",
    "cov = np.cov(X.T)\n",
    "cov"
   ]
  },
  {
   "cell_type": "code",
   "execution_count": 65,
   "metadata": {},
   "outputs": [
    {
     "data": {
      "text/plain": [
       "(array([0.83878307, 1.02128643, 1.2143747 ]),\n",
       " array([[ 0.88095967, -0.47313808, -0.00710102],\n",
       "        [ 0.38511284,  0.72561927, -0.57023222],\n",
       "        [ 0.27495121,  0.49961689,  0.82145285]]))"
      ]
     },
     "execution_count": 65,
     "metadata": {},
     "output_type": "execute_result"
    }
   ],
   "source": [
    "np.linalg.eigh(cov)"
   ]
  },
  {
   "cell_type": "code",
   "execution_count": 66,
   "metadata": {},
   "outputs": [
    {
     "data": {
      "text/plain": [
       "(array([0.83878307, 1.02128643, 1.2143747 ]),\n",
       " array([[-0.88095967, -0.47313808, -0.00710102],\n",
       "        [-0.38511284,  0.72561927, -0.57023222],\n",
       "        [-0.27495121,  0.49961689,  0.82145285]]))"
      ]
     },
     "execution_count": 66,
     "metadata": {},
     "output_type": "execute_result"
    }
   ],
   "source": [
    "np.linalg.eig(cov)"
   ]
  },
  {
   "cell_type": "code",
   "execution_count": 67,
   "metadata": {},
   "outputs": [],
   "source": [
    "# solve Ax = b\n",
    "# Aexp(-1)*Ax = Aexp(-1)*b\n",
    "# x = Aexp(-1)*b\n",
    "A = np.array([ [1,2], [3,4]])\n",
    "b = np.array([1,2])"
   ]
  },
  {
   "cell_type": "code",
   "execution_count": 68,
   "metadata": {},
   "outputs": [
    {
     "data": {
      "text/plain": [
       "array([0. , 0.5])"
      ]
     },
     "execution_count": 68,
     "metadata": {},
     "output_type": "execute_result"
    }
   ],
   "source": [
    "np.linalg.solve(A,b)"
   ]
  },
  {
   "cell_type": "code",
   "execution_count": 78,
   "metadata": {},
   "outputs": [
    {
     "data": {
      "text/plain": [
       "array([[1, 2],\n",
       "       [3, 4]])"
      ]
     },
     "execution_count": 78,
     "metadata": {},
     "output_type": "execute_result"
    }
   ],
   "source": [
    "A"
   ]
  },
  {
   "cell_type": "code",
   "execution_count": 86,
   "metadata": {},
   "outputs": [],
   "source": [
    "x = np.linspace(0,10,10)\n",
    "y = np.sin(x)"
   ]
  },
  {
   "cell_type": "code",
   "execution_count": 91,
   "metadata": {},
   "outputs": [
    {
     "data": {
      "text/plain": [
       "Text(0.5, 1.0, 'My Cool Chart')"
      ]
     },
     "execution_count": 91,
     "metadata": {},
     "output_type": "execute_result"
    },
    {
     "data": {
      "image/png": "[encoded data removed]",
      "text/plain": [
       "<Figure size 432x288 with 1 Axes>"
      ]
     },
     "metadata": {
      "needs_background": "light"
     },
     "output_type": "display_data"
    }
   ],
   "source": [
    "plt.plot(x,y)\n",
    "plt.xlabel(\"Time\")\n",
    "plt.ylabel(\"Some function of time\")\n",
    "plt.title(\"My Cool Chart\")"
   ]
  },
  {
   "cell_type": "code",
   "execution_count": 92,
   "metadata": {},
   "outputs": [
    {
     "data": {
      "text/plain": [
       "[<matplotlib.lines.Line2D at 0x11bb4e5f8>]"
      ]
     },
     "execution_count": 92,
     "metadata": {},
     "output_type": "execute_result"
    },
    {
     "data": {
      "image/png": "[encoded data removed]",
      "text/plain": [
       "<Figure size 432x288 with 1 Axes>"
      ]
     },
     "metadata": {
      "needs_background": "light"
     },
     "output_type": "display_data"
    }
   ],
   "source": [
    "y_line = 2*x + 1\n",
    "plt.plot(x, y_line)"
   ]
  },
  {
   "cell_type": "code",
   "execution_count": 96,
   "metadata": {},
   "outputs": [
    {
     "data": {
      "text/plain": [
       "(array([ 964.,  966., 1039., 1078.,  984.,  984., 1006.,  962., 1006.,\n",
       "        1011.]),\n",
       " array([6.45513941e-05, 1.00043833e-01, 2.00023114e-01, 3.00002396e-01,\n",
       "        3.99981677e-01, 4.99960959e-01, 5.99940240e-01, 6.99919521e-01,\n",
       "        7.99898803e-01, 8.99878084e-01, 9.99857366e-01]),\n",
       " <a list of 10 Patch objects>)"
      ]
     },
     "execution_count": 96,
     "metadata": {},
     "output_type": "execute_result"
    },
    {
     "data": {
      "image/png": "[encoded data removed]",
      "text/plain": [
       "<Figure size 432x288 with 1 Axes>"
      ]
     },
     "metadata": {
      "needs_background": "light"
     },
     "output_type": "display_data"
    }
   ],
   "source": [
    "R = np.random.random(10000)\n",
    "plt.hist(R)"
   ]
  },
  {
   "cell_type": "code",
   "execution_count": 97,
   "metadata": {},
   "outputs": [
    {
     "data": {
      "text/plain": [
       "(array([452., 512., 483., 483., 524., 515., 544., 534., 473., 511., 490.,\n",
       "        494., 509., 497., 460., 502., 499., 507., 495., 516.]),\n",
       " array([6.45513941e-05, 5.00541921e-02, 1.00043833e-01, 1.50033474e-01,\n",
       "        2.00023114e-01, 2.50012755e-01, 3.00002396e-01, 3.49992036e-01,\n",
       "        3.99981677e-01, 4.49971318e-01, 4.99960959e-01, 5.49950599e-01,\n",
       "        5.99940240e-01, 6.49929881e-01, 6.99919521e-01, 7.49909162e-01,\n",
       "        7.99898803e-01, 8.49888444e-01, 8.99878084e-01, 9.49867725e-01,\n",
       "        9.99857366e-01]),\n",
       " <a list of 20 Patch objects>)"
      ]
     },
     "execution_count": 97,
     "metadata": {},
     "output_type": "execute_result"
    },
    {
     "data": {
      "image/png": "[encoded data removed]",
      "text/plain": [
       "<Figure size 432x288 with 1 Axes>"
      ]
     },
     "metadata": {
      "needs_background": "light"
     },
     "output_type": "display_data"
    }
   ],
   "source": [
    "plt.hist(R, bins=20)"
   ]
  },
  {
   "cell_type": "markdown",
   "metadata": {},
   "source": [
    "## SciPy"
   ]
  },
  {
   "cell_type": "code",
   "execution_count": 98,
   "metadata": {},
   "outputs": [
    {
     "data": {
      "text/plain": [
       "0.3989422804014327"
      ]
     },
     "execution_count": 98,
     "metadata": {},
     "output_type": "execute_result"
    }
   ],
   "source": [
    "# Probability Distribution function (PDF) for number 0 (mean = 0, std = 1)\n",
    "from scipy.stats import norm\n",
    "norm.pdf(0)"
   ]
  },
  {
   "cell_type": "code",
   "execution_count": 100,
   "metadata": {},
   "outputs": [
    {
     "data": {
      "text/plain": [
       "0.0"
      ]
     },
     "execution_count": 100,
     "metadata": {},
     "output_type": "execute_result"
    }
   ],
   "source": [
    "# trying vector norm from np (something completely different)\n",
    "np.linalg.norm(0)"
   ]
  },
  {
   "cell_type": "code",
   "execution_count": 103,
   "metadata": {},
   "outputs": [
    {
     "data": {
      "text/plain": [
       "0.03520653267642995"
      ]
     },
     "execution_count": 103,
     "metadata": {},
     "output_type": "execute_result"
    }
   ],
   "source": [
    "# mean = 5, std=10, => probability density of zero now is much smaller\n",
    "# \"scale\" is std, not variance (variance for std=10 is 100)\n",
    "norm.pdf(0, loc=5, scale=10)"
   ]
  },
  {
   "cell_type": "code",
   "execution_count": 104,
   "metadata": {},
   "outputs": [
    {
     "data": {
      "text/plain": [
       "array([0.22831724, 0.38199524, 0.06452439, 0.38358441, 0.28189465,\n",
       "       0.23350317, 0.38392755, 0.08925785, 0.39610668, 0.2297419 ])"
      ]
     },
     "execution_count": 104,
     "metadata": {},
     "output_type": "execute_result"
    }
   ],
   "source": [
    "# calculate PDF values for many values simultaneously, if they are in an array.\n",
    "# Instinctively, one thinks of a 'for' loop.\n",
    "# But, SciPy does this element-wise calculation\n",
    "\n",
    "r = np.random.randn(10)\n",
    "norm.pdf(r)"
   ]
  },
  {
   "cell_type": "code",
   "execution_count": 105,
   "metadata": {},
   "outputs": [
    {
     "data": {
      "text/plain": [
       "array([-1.47701923, -0.96234713, -2.74071195, -0.95819559, -1.26622185,\n",
       "       -1.45455964, -0.9573014 , -2.41622594, -0.9260717 , -1.47079875])"
      ]
     },
     "execution_count": 105,
     "metadata": {},
     "output_type": "execute_result"
    }
   ],
   "source": [
    "# Working with logs of probabilities is computationally cheaper,\n",
    "# esp. with Gaussian distribution, because the 'expensive' exponential\n",
    "# also gets eliminated\n",
    "norm.logpdf(r)"
   ]
  },
  {
   "cell_type": "code",
   "execution_count": 106,
   "metadata": {},
   "outputs": [
    {
     "data": {
      "text/plain": [
       "array([0.14537325, 0.61586845, 0.97185655, 0.38966062, 0.79769229,\n",
       "       0.84966749, 0.60910769, 0.95822808, 0.45246269, 0.85327446])"
      ]
     },
     "execution_count": 106,
     "metadata": {},
     "output_type": "execute_result"
    }
   ],
   "source": [
    "# Cumulative pdf. Integral of pdf (from -infinity to +infinity) is not solvable.\n",
    "norm.cdf(r)"
   ]
  },
  {
   "cell_type": "code",
   "execution_count": 107,
   "metadata": {},
   "outputs": [
    {
     "data": {
      "text/plain": [
       "array([-1.92845067, -0.4847219 , -0.02854707, -0.94247913, -0.22603236,\n",
       "       -0.1629102 , -0.4957602 , -0.04266945, -0.79304996, -0.15867402])"
      ]
     },
     "execution_count": 107,
     "metadata": {},
     "output_type": "execute_result"
    }
   ],
   "source": [
    "norm.logcdf(r)"
   ]
  },
  {
   "cell_type": "markdown",
   "metadata": {},
   "source": [
    "## Sampling from Gaussian"
   ]
  },
  {
   "cell_type": "code",
   "execution_count": 108,
   "metadata": {},
   "outputs": [],
   "source": [
    "r = np.random.randn(10000)"
   ]
  },
  {
   "cell_type": "code",
   "execution_count": 110,
   "metadata": {},
   "outputs": [
    {
     "data": {
      "text/plain": [
       "(array([  1.,   0.,   0.,   0.,   1.,   0.,   0.,   1.,   1.,   0.,   3.,\n",
       "          2.,   4.,   2.,   1.,   9.,   3.,   7.,   7.,  11.,  18.,  15.,\n",
       "         24.,  15.,  25.,  35.,  43.,  43.,  58.,  69.,  79.,  96.,  95.,\n",
       "        104., 125., 124., 124., 160., 155., 173., 214., 217., 227., 237.,\n",
       "        237., 282., 301., 305., 289., 284., 297., 327., 326., 280., 311.,\n",
       "        295., 315., 266., 275., 297., 236., 238., 222., 225., 199., 206.,\n",
       "        179., 147., 155., 131., 115., 126.,  90.,  82.,  63.,  60.,  46.,\n",
       "         50.,  40.,  24.,  27.,  21.,  21.,  15.,  17.,  10.,   8.,   8.,\n",
       "          9.,   2.,   3.,   2.,   1.,   1.,   2.,   0.,   1.,   0.,   2.,\n",
       "          1.]),\n",
       " array([-4.15684834, -4.07793331, -3.99901827, -3.92010323, -3.8411882 ,\n",
       "        -3.76227316, -3.68335812, -3.60444309, -3.52552805, -3.44661301,\n",
       "        -3.36769797, -3.28878294, -3.2098679 , -3.13095286, -3.05203783,\n",
       "        -2.97312279, -2.89420775, -2.81529272, -2.73637768, -2.65746264,\n",
       "        -2.57854761, -2.49963257, -2.42071753, -2.3418025 , -2.26288746,\n",
       "        -2.18397242, -2.10505739, -2.02614235, -1.94722731, -1.86831228,\n",
       "        -1.78939724, -1.7104822 , -1.63156717, -1.55265213, -1.47373709,\n",
       "        -1.39482206, -1.31590702, -1.23699198, -1.15807695, -1.07916191,\n",
       "        -1.00024687, -0.92133184, -0.8424168 , -0.76350176, -0.68458673,\n",
       "        -0.60567169, -0.52675665, -0.44784162, -0.36892658, -0.29001154,\n",
       "        -0.2110965 , -0.13218147, -0.05326643,  0.02564861,  0.10456364,\n",
       "         0.18347868,  0.26239372,  0.34130875,  0.42022379,  0.49913883,\n",
       "         0.57805386,  0.6569689 ,  0.73588394,  0.81479897,  0.89371401,\n",
       "         0.97262905,  1.05154408,  1.13045912,  1.20937416,  1.28828919,\n",
       "         1.36720423,  1.44611927,  1.5250343 ,  1.60394934,  1.68286438,\n",
       "         1.76177941,  1.84069445,  1.91960949,  1.99852452,  2.07743956,\n",
       "         2.1563546 ,  2.23526963,  2.31418467,  2.39309971,  2.47201474,\n",
       "         2.55092978,  2.62984482,  2.70875985,  2.78767489,  2.86658993,\n",
       "         2.94550496,  3.02442   ,  3.10333504,  3.18225008,  3.26116511,\n",
       "         3.34008015,  3.41899519,  3.49791022,  3.57682526,  3.6557403 ,\n",
       "         3.73465533]),\n",
       " <a list of 100 Patch objects>)"
      ]
     },
     "execution_count": 110,
     "metadata": {},
     "output_type": "execute_result"
    },
    {
     "data": {
      "image/png": "[encoded data removed]",
      "text/plain": [
       "<Figure size 864x576 with 1 Axes>"
      ]
     },
     "metadata": {
      "needs_background": "light"
     },
     "output_type": "display_data"
    }
   ],
   "source": [
    "plt.figure(figsize=(12,8))\n",
    "plt.hist(r, bins=100)"
   ]
  },
  {
   "cell_type": "code",
   "execution_count": 111,
   "metadata": {},
   "outputs": [],
   "source": [
    "# creating a sample: mean=5, std=10\n",
    "r = 10 * np.random.randn(10000) + 5"
   ]
  },
  {
   "cell_type": "code",
   "execution_count": 112,
   "metadata": {},
   "outputs": [
    {
     "data": {
      "text/plain": [
       "(array([  1.,   0.,   0.,   0.,   0.,   0.,   0.,   0.,   0.,   0.,   0.,\n",
       "          1.,   1.,   1.,   1.,   1.,   2.,   5.,   3.,   3.,   3.,   8.,\n",
       "         16.,  18.,  11.,  10.,   9.,  19.,  26.,  30.,  27.,  52.,  40.,\n",
       "         61.,  74.,  87.,  84., 103., 123., 135., 128., 139., 155., 174.,\n",
       "        185., 242., 201., 242., 275., 258., 269., 289., 304., 308., 319.,\n",
       "        332., 331., 287., 319., 339., 300., 268., 274., 266., 271., 213.,\n",
       "        230., 238., 176., 215., 160., 159., 169., 136., 108., 103.,  98.,\n",
       "         82.,  72.,  65.,  45.,  59.,  38.,  40.,  36.,  21.,  14.,  10.,\n",
       "         16.,   9.,  16.,  10.,   4.,   5.,   5.,   4.,   4.,   5.,   0.,\n",
       "          5.]), array([-39.63722421, -38.84931807, -38.06141193, -37.27350579,\n",
       "        -36.48559965, -35.69769351, -34.90978736, -34.12188122,\n",
       "        -33.33397508, -32.54606894, -31.7581628 , -30.97025666,\n",
       "        -30.18235052, -29.39444438, -28.60653824, -27.81863209,\n",
       "        -27.03072595, -26.24281981, -25.45491367, -24.66700753,\n",
       "        -23.87910139, -23.09119525, -22.30328911, -21.51538297,\n",
       "        -20.72747683, -19.93957068, -19.15166454, -18.3637584 ,\n",
       "        -17.57585226, -16.78794612, -16.00003998, -15.21213384,\n",
       "        -14.4242277 , -13.63632156, -12.84841541, -12.06050927,\n",
       "        -11.27260313, -10.48469699,  -9.69679085,  -8.90888471,\n",
       "         -8.12097857,  -7.33307243,  -6.54516629,  -5.75726014,\n",
       "         -4.969354  ,  -4.18144786,  -3.39354172,  -2.60563558,\n",
       "         -1.81772944,  -1.0298233 ,  -0.24191716,   0.54598898,\n",
       "          1.33389512,   2.12180127,   2.90970741,   3.69761355,\n",
       "          4.48551969,   5.27342583,   6.06133197,   6.84923811,\n",
       "          7.63714425,   8.42505039,   9.21295654,  10.00086268,\n",
       "         10.78876882,  11.57667496,  12.3645811 ,  13.15248724,\n",
       "         13.94039338,  14.72829952,  15.51620566,  16.30411181,\n",
       "         17.09201795,  17.87992409,  18.66783023,  19.45573637,\n",
       "         20.24364251,  21.03154865,  21.81945479,  22.60736093,\n",
       "         23.39526707,  24.18317322,  24.97107936,  25.7589855 ,\n",
       "         26.54689164,  27.33479778,  28.12270392,  28.91061006,\n",
       "         29.6985162 ,  30.48642234,  31.27432849,  32.06223463,\n",
       "         32.85014077,  33.63804691,  34.42595305,  35.21385919,\n",
       "         36.00176533,  36.78967147,  37.57757761,  38.36548376,\n",
       "         39.1533899 ]), <a list of 100 Patch objects>)"
      ]
     },
     "execution_count": 112,
     "metadata": {},
     "output_type": "execute_result"
    },
    {
     "data": {
      "image/png": "[encoded data removed]",
      "text/plain": [
       "<Figure size 864x576 with 1 Axes>"
      ]
     },
     "metadata": {
      "needs_background": "light"
     },
     "output_type": "display_data"
    }
   ],
   "source": [
    "plt.figure(figsize=(12,8))\n",
    "plt.hist(r, bins=100)"
   ]
  },
  {
   "cell_type": "markdown",
   "metadata": {},
   "source": [
    "## Multi-dimentional Gaussian"
   ]
  },
  {
   "cell_type": "markdown",
   "metadata": {},
   "source": [
    "### 1. Dimensions are independent"
   ]
  },
  {
   "cell_type": "code",
   "execution_count": 115,
   "metadata": {},
   "outputs": [],
   "source": [
    "r = np.random.randn(10000, 2)"
   ]
  },
  {
   "cell_type": "code",
   "execution_count": 117,
   "metadata": {},
   "outputs": [
    {
     "data": {
      "text/plain": [
       "<matplotlib.collections.PathCollection at 0x1a1f278cf8>"
      ]
     },
     "execution_count": 117,
     "metadata": {},
     "output_type": "execute_result"
    },
    {
     "data": {
      "image/png": "[encoded data removed]",
      "text/plain": [
       "<Figure size 576x576 with 1 Axes>"
      ]
     },
     "metadata": {
      "needs_background": "light"
     },
     "output_type": "display_data"
    }
   ],
   "source": [
    "# should be in a curcle on the scatterplot\n",
    "plt.figure(figsize=(8,8))\n",
    "plt.scatter(r[:,0], r[:,1])"
   ]
  },
  {
   "cell_type": "code",
   "execution_count": 118,
   "metadata": {},
   "outputs": [],
   "source": [
    "#Elliptical Gaussian is when the variance is different for each dimension:\n",
    "\n",
    "r[:,1] = 5*r[:,1] + 2"
   ]
  },
  {
   "cell_type": "code",
   "execution_count": 119,
   "metadata": {},
   "outputs": [
    {
     "data": {
      "text/plain": [
       "<matplotlib.collections.PathCollection at 0x1a1eb6c588>"
      ]
     },
     "execution_count": 119,
     "metadata": {},
     "output_type": "execute_result"
    },
    {
     "data": {
      "image/png": "[encoded data removed]",
      "text/plain": [
       "<Figure size 576x576 with 1 Axes>"
      ]
     },
     "metadata": {
      "needs_background": "light"
     },
     "output_type": "display_data"
    }
   ],
   "source": [
    "plt.figure(figsize=(8,8))\n",
    "plt.scatter(r[:,0], r[:,1])"
   ]
  },
  {
   "cell_type": "code",
   "execution_count": 121,
   "metadata": {},
   "outputs": [
    {
     "data": {
      "text/plain": [
       "<matplotlib.collections.PathCollection at 0x1a1f4ea828>"
      ]
     },
     "execution_count": 121,
     "metadata": {},
     "output_type": "execute_result"
    },
    {
     "data": {
      "image/png": "[encoded data removed]",
      "text/plain": [
       "<Figure size 576x576 with 1 Axes>"
      ]
     },
     "metadata": {
      "needs_background": "light"
     },
     "output_type": "display_data"
    }
   ],
   "source": [
    "# Make scale equal so the elliptical shape is clear\n",
    "plt.figure(figsize=(8,8))\n",
    "#plt.xlim(-15, 20)\n",
    "plt.axis('equal')\n",
    "plt.scatter(r[:,0], r[:,1])"
   ]
  },
  {
   "cell_type": "markdown",
   "metadata": {},
   "source": [
    "# 2. General Multivariate Normal (dimensions are not necessarily independent)"
   ]
  },
  {
   "cell_type": "code",
   "execution_count": 135,
   "metadata": {},
   "outputs": [
    {
     "data": {
      "text/plain": [
       "array([[1. , 0.8],\n",
       "       [0.8, 3. ]])"
      ]
     },
     "execution_count": 135,
     "metadata": {},
     "output_type": "execute_result"
    }
   ],
   "source": [
    "# covariance matrix:\n",
    "cov = np.array([ [1,0.8], [0.8,3]])\n",
    "cov"
   ]
  },
  {
   "cell_type": "code",
   "execution_count": 123,
   "metadata": {},
   "outputs": [],
   "source": [
    "from scipy.stats import multivariate_normal as mvn"
   ]
  },
  {
   "cell_type": "code",
   "execution_count": 124,
   "metadata": {},
   "outputs": [],
   "source": [
    "# mean\n",
    "mu = np.array([0,2])"
   ]
  },
  {
   "cell_type": "code",
   "execution_count": 136,
   "metadata": {},
   "outputs": [
    {
     "data": {
      "text/plain": [
       "array([[-2.96186864e-01,  1.75470886e+00],\n",
       "       [ 2.35683895e-01, -1.01969623e+00],\n",
       "       [ 3.56638864e-01,  4.65433994e+00],\n",
       "       ...,\n",
       "       [ 5.68773473e-01,  4.88528874e+00],\n",
       "       [ 1.40107683e-03,  1.08247831e+00],\n",
       "       [-1.82906332e+00,  1.71451399e+00]])"
      ]
     },
     "execution_count": 136,
     "metadata": {},
     "output_type": "execute_result"
    }
   ],
   "source": [
    "# draw 1000 random samples from multivariate normal distribution\n",
    "r = mvn.rvs(mean=mu, cov=cov, size=1000)\n",
    "r"
   ]
  },
  {
   "cell_type": "code",
   "execution_count": 133,
   "metadata": {},
   "outputs": [
    {
     "data": {
      "text/plain": [
       "(-4.03496800229991, 3.5676606275535874, -5.2508155608627245, 7.774600491457407)"
      ]
     },
     "execution_count": 133,
     "metadata": {},
     "output_type": "execute_result"
    },
    {
     "data": {
      "image/png": "[encoded data removed]",
      "text/plain": [
       "<Figure size 576x576 with 1 Axes>"
      ]
     },
     "metadata": {
      "needs_background": "light"
     },
     "output_type": "display_data"
    }
   ],
   "source": [
    "# we can see that there is a bit of correlation\n",
    "plt.figure(figsize=(8,8))\n",
    "plt.scatter(r[:,0], r[:,1])\n",
    "plt.axis('equal')"
   ]
  },
  {
   "cell_type": "code",
   "execution_count": 137,
   "metadata": {},
   "outputs": [
    {
     "data": {
      "text/plain": [
       "(-4.084611544168332, 4.159321809181925, -3.6160726077084093, 7.84453984362408)"
      ]
     },
     "execution_count": 137,
     "metadata": {},
     "output_type": "execute_result"
    },
    {
     "data": {
      "image/png": "[encoded data removed]",
      "text/plain": [
       "<Figure size 576x576 with 1 Axes>"
      ]
     },
     "metadata": {
      "needs_background": "light"
     },
     "output_type": "display_data"
    }
   ],
   "source": [
    "# with Numpy: \n",
    "\n",
    "r = np.random.multivariate_normal(mean=mu, cov=cov, size=1000)\n",
    "plt.figure(figsize=(8,8))\n",
    "plt.scatter(r[:,0], r[:,1])\n",
    "plt.axis('equal')"
   ]
  },
  {
   "cell_type": "code",
   "execution_count": null,
   "metadata": {},
   "outputs": [],
   "source": []
  }
 ],
 "metadata": {
  "kernelspec": {
   "display_name": "Python 3",
   "language": "python",
   "name": "python3"
  },
  "language_info": {
   "codemirror_mode": {
    "name": "ipython",
    "version": 3
   },
   "file_extension": ".py",
   "mimetype": "text/x-python",
   "name": "python",
   "nbconvert_exporter": "python",
   "pygments_lexer": "ipython3",
   "version": "3.7.3"
  }
 },
 "nbformat": 4,
 "nbformat_minor": 2
}
