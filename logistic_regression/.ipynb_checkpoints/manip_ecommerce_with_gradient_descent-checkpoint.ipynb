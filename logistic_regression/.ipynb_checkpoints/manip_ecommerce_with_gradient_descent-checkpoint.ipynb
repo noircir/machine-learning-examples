{
 "cells": [
  {
   "cell_type": "code",
   "execution_count": 17,
   "metadata": {},
   "outputs": [],
   "source": [
    "import numpy as np\n",
    "import pandas as pd\n",
    "import matplotlib.pyplot as plt\n",
    "%matplotlib inline\n",
    "\n",
    "from sklearn.utils import shuffle"
   ]
  },
  {
   "cell_type": "code",
   "execution_count": 18,
   "metadata": {},
   "outputs": [],
   "source": [
    "def get_data():\n",
    "    df = pd.read_csv(\"ecommerce_data.csv\")\n",
    "    data = df.values\n",
    "    \n",
    "    # shuffle it\n",
    "    np.random.shuffle(data)\n",
    "    \n",
    "    # split features and labels\n",
    "    X = data[:, :-1]  # Y is the last column\n",
    "    Y = data[:, -1]\n",
    "    \n",
    "    # one-hot encode the categorical data\n",
    "    # create a new matrix of zeroes X2 with the correct number of columns\n",
    "    N, D = X.shape   # (100,5)\n",
    "    X2 = np.zeros((N, D+3))  # (100,8)\n",
    "    X2[:,0:(D-1)] = X[:,0:(D-1)] # first 3 cols of X2 are equivalent to first 3 cols of X  \n",
    "    \n",
    "    # one-hot for \"is returning visitor\", either 0 or 1\n",
    "    for n in range(N):\n",
    "        temp = int(X[n,D-1])  # 0, 1, 2, or 3\n",
    "        # assigning 1 to either 4th, 5th, 6th, or 7th column (which are 5,6,7,8)\n",
    "        X2[n,temp + D-1] = 1  # X2[n,D]=1 if temp=1, or X2[n,D-1]=1 if temp=0\n",
    "    \n",
    "    # assign X2 back to X, since we don't need original anymore\n",
    "    X = X2\n",
    "\n",
    "    # split train and test\n",
    "    Xtrain = X[:-100]\n",
    "    Ytrain = Y[:-100]\n",
    "    Xtest = X[-100:]\n",
    "    Ytest = Y[-100:]\n",
    "\n",
    "    # normalize columns 1 and 2\n",
    "    for i in (1, 2):\n",
    "        m = Xtrain[:,i].mean()\n",
    "        s = Xtrain[:,i].std()\n",
    "        Xtrain[:,i] = (Xtrain[:,i] - m) / s\n",
    "        Xtest[:,i] = (Xtest[:,i] - m) / s\n",
    "\n",
    "    return Xtrain, Ytrain, Xtest, Ytest"
   ]
  },
  {
   "cell_type": "code",
   "execution_count": 19,
   "metadata": {},
   "outputs": [],
   "source": [
    "def get_binary_data():\n",
    "    # return only the data from the first 2 classes\n",
    "    Xtrain, Ytrain, Xtest, Ytest = get_data()\n",
    "    X2train = Xtrain[Ytrain <= 1]\n",
    "    Y2train = Ytrain[Ytrain <= 1]\n",
    "    X2test = Xtest[Ytest <= 1]\n",
    "    Y2test = Ytest[Ytest <= 1]\n",
    "    return X2train, Y2train, X2test, Y2test"
   ]
  },
  {
   "cell_type": "code",
   "execution_count": 20,
   "metadata": {},
   "outputs": [
    {
     "name": "stdout",
     "output_type": "stream",
     "text": [
      "0 1.7087421559212463 1.791523225956435\n",
      "1000 0.19444829627666776 0.14734118414694855\n",
      "2000 0.19378017785199178 0.14408412044406832\n",
      "3000 0.19374279911188594 0.14338538564692405\n",
      "4000 0.19374028231223916 0.14321039944974037\n",
      "5000 0.1937401057478837 0.14316454899658396\n",
      "6000 0.19374009322949806 0.14315237813411064\n",
      "7000 0.1937400923394611 0.1431491356762269\n",
      "8000 0.1937400922761338 0.14314827098406774\n",
      "9000 0.19374009227162692 0.1431480403266244\n",
      "Final train classification_rate: 0.9681528662420382\n",
      "Final test classification_rate: 0.9642857142857143\n"
     ]
    },
    {
     "data": {
      "image/png": "[encoded data removed]",
      "text/plain": [
       "<Figure size 432x288 with 1 Axes>"
      ]
     },
     "metadata": {
      "needs_background": "light"
     },
     "output_type": "display_data"
    }
   ],
   "source": [
    "# get the data\n",
    "Xtrain, Ytrain, Xtest, Ytest = get_binary_data()\n",
    "\n",
    "# randomly initialize weights\n",
    "D = Xtrain.shape[1]\n",
    "W = np.random.randn(D)\n",
    "b = 0 # bias term\n",
    "\n",
    "# make predictions\n",
    "def sigmoid(a):\n",
    "    return 1 / (1 + np.exp(-a))\n",
    "\n",
    "def forward(X, W, b):\n",
    "    return sigmoid(X.dot(W) + b)\n",
    "\n",
    "# calculate the accuracy\n",
    "def classification_rate(Y, P):\n",
    "    # true results / total results\n",
    "    return np.mean(Y == P)\n",
    "\n",
    "# cross entropy\n",
    "def cross_entropy(T, pY):\n",
    "    return -np.mean(T*np.log(pY) + (1 - T)*np.log(1 - pY))\n",
    "\n",
    "# train loop\n",
    "train_costs = []\n",
    "test_costs = []\n",
    "learning_rate = 0.001\n",
    "for i in range(10000):\n",
    "    pYtrain = forward(Xtrain, W, b)\n",
    "    pYtest = forward(Xtest, W, b)\n",
    "\n",
    "    ctrain = cross_entropy(Ytrain, pYtrain)\n",
    "    ctest = cross_entropy(Ytest, pYtest)\n",
    "    train_costs.append(ctrain)\n",
    "    test_costs.append(ctest)\n",
    "\n",
    "    # gradient descent\n",
    "    W -= learning_rate*Xtrain.T.dot(pYtrain - Ytrain)\n",
    "    b -= learning_rate*(pYtrain - Ytrain).sum()\n",
    "    if i % 1000 == 0:\n",
    "        print(i, ctrain, ctest)\n",
    "\n",
    "print(\"Final train classification_rate:\", classification_rate(Ytrain, np.round(pYtrain)))\n",
    "print(\"Final test classification_rate:\", classification_rate(Ytest, np.round(pYtest)))\n",
    "\n",
    "legend1, = plt.plot(train_costs, label='train cost')\n",
    "legend2, = plt.plot(test_costs, label='test cost')\n",
    "plt.legend([legend1, legend2])\n",
    "plt.show()"
   ]
  },
  {
   "cell_type": "code",
   "execution_count": null,
   "metadata": {},
   "outputs": [],
   "source": []
  }
 ],
 "metadata": {
  "kernelspec": {
   "display_name": "Python 3",
   "language": "python",
   "name": "python3"
  },
  "language_info": {
   "codemirror_mode": {
    "name": "ipython",
    "version": 3
   },
   "file_extension": ".py",
   "mimetype": "text/x-python",
   "name": "python",
   "nbconvert_exporter": "python",
   "pygments_lexer": "ipython3",
   "version": "3.7.3"
  }
 },
 "nbformat": 4,
 "nbformat_minor": 2
}
