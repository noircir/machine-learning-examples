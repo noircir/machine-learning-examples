{
 "cells": [
  {
   "cell_type": "code",
   "execution_count": 1,
   "metadata": {},
   "outputs": [],
   "source": [
    "import numpy as np"
   ]
  },
  {
   "cell_type": "code",
   "execution_count": 3,
   "metadata": {},
   "outputs": [
    {
     "data": {
      "text/plain": [
       "array([ 0.16667875, -0.48188364, -0.35143845, -0.26845092, -1.33514974])"
      ]
     },
     "execution_count": 3,
     "metadata": {},
     "output_type": "execute_result"
    }
   ],
   "source": [
    "# just one array of elements\n",
    "a = np.random.randn(5)\n",
    "a"
   ]
  },
  {
   "cell_type": "code",
   "execution_count": 4,
   "metadata": {},
   "outputs": [
    {
     "data": {
      "text/plain": [
       "array([1.18137469, 0.61761892, 0.70367516, 0.76456295, 0.26311877])"
      ]
     },
     "execution_count": 4,
     "metadata": {},
     "output_type": "execute_result"
    }
   ],
   "source": [
    "expa = np.exp(a)\n",
    "expa"
   ]
  },
  {
   "cell_type": "code",
   "execution_count": 6,
   "metadata": {},
   "outputs": [
    {
     "data": {
      "text/plain": [
       "array([0.33463382, 0.1749455 , 0.19932161, 0.21656857, 0.0745305 ])"
      ]
     },
     "execution_count": 6,
     "metadata": {},
     "output_type": "execute_result"
    }
   ],
   "source": [
    "answer_softmax = expa / expa.sum()\n",
    "answer_softmax"
   ]
  },
  {
   "cell_type": "code",
   "execution_count": 7,
   "metadata": {},
   "outputs": [
    {
     "data": {
      "text/plain": [
       "1.0"
      ]
     },
     "execution_count": 7,
     "metadata": {},
     "output_type": "execute_result"
    }
   ],
   "source": [
    "# these areprobabilities that add to 1\n",
    "answer_softmax.sum()"
   ]
  },
  {
   "cell_type": "code",
   "execution_count": 9,
   "metadata": {},
   "outputs": [
    {
     "data": {
      "text/plain": [
       "array([[-0.23845562, -0.73278475, -0.79009729,  0.47164012, -0.02031083],\n",
       "       [ 1.38803129, -0.37522983,  0.55971557,  0.57446912,  0.71674058],\n",
       "       [-1.85471841, -0.25436542, -0.03637523, -0.34920088, -1.1346599 ],\n",
       "       [-0.44358015,  1.27271086,  3.57452541,  1.16232765,  0.58986135]])"
      ]
     },
     "execution_count": 9,
     "metadata": {},
     "output_type": "execute_result"
    }
   ],
   "source": [
    "# matrix (not one array, but many observations)\n",
    "A = np.random.randn(100, 5)\n",
    "A[1:5]"
   ]
  },
  {
   "cell_type": "code",
   "execution_count": 10,
   "metadata": {},
   "outputs": [
    {
     "data": {
      "text/plain": [
       "array([[ 0.78784366,  0.48056886,  0.45380064,  1.60262053,  0.97989405],\n",
       "       [ 4.00695373,  0.68713134,  1.75017463,  1.77618734,  2.04774785],\n",
       "       [ 0.156497  ,  0.7754084 ,  0.9642784 ,  0.70525145,  0.32153146],\n",
       "       [ 0.6417348 ,  3.57051863, 35.67768463,  3.19736697,  1.8037383 ]])"
      ]
     },
     "execution_count": 10,
     "metadata": {},
     "output_type": "execute_result"
    }
   ],
   "source": [
    "# exponentiate them to make them positive\n",
    "expA = np.exp(A)\n",
    "expA[1:5]"
   ]
  },
  {
   "cell_type": "code",
   "execution_count": 15,
   "metadata": {},
   "outputs": [
    {
     "data": {
      "text/plain": [
       "array([[0.1070138 , 0.08645898, 0.47273459, 0.05799156, 0.27580108],\n",
       "       [0.18301823, 0.11163746, 0.10541913, 0.37229312, 0.22763206],\n",
       "       [0.39022961, 0.06691842, 0.17044618, 0.17297951, 0.19942627],\n",
       "       [0.05354047, 0.2652813 , 0.32989715, 0.24127933, 0.11000175],\n",
       "       [0.01429539, 0.07953744, 0.79476176, 0.07122505, 0.04018036]])"
      ]
     },
     "execution_count": 15,
     "metadata": {},
     "output_type": "execute_result"
    }
   ],
   "source": [
    "# axis=1 to sum over rows\n",
    "# keepdims=True, since 2D matrix being divided by 1D vector\n",
    "answerA_softmax = expA / expA.sum(axis=1, keepdims=True)\n",
    "answerA_softmax[0:5]"
   ]
  },
  {
   "cell_type": "code",
   "execution_count": 16,
   "metadata": {},
   "outputs": [
    {
     "data": {
      "text/plain": [
       "array([1., 1., 1., 1., 1., 1., 1., 1., 1., 1., 1., 1., 1., 1., 1., 1., 1.,\n",
       "       1., 1., 1., 1., 1., 1., 1., 1., 1., 1., 1., 1., 1., 1., 1., 1., 1.,\n",
       "       1., 1., 1., 1., 1., 1., 1., 1., 1., 1., 1., 1., 1., 1., 1., 1., 1.,\n",
       "       1., 1., 1., 1., 1., 1., 1., 1., 1., 1., 1., 1., 1., 1., 1., 1., 1.,\n",
       "       1., 1., 1., 1., 1., 1., 1., 1., 1., 1., 1., 1., 1., 1., 1., 1., 1.,\n",
       "       1., 1., 1., 1., 1., 1., 1., 1., 1., 1., 1., 1., 1., 1., 1.])"
      ]
     },
     "execution_count": 16,
     "metadata": {},
     "output_type": "execute_result"
    }
   ],
   "source": [
    "answerA_softmax.sum(axis=1)"
   ]
  },
  {
   "cell_type": "code",
   "execution_count": 19,
   "metadata": {},
   "outputs": [
    {
     "data": {
      "text/plain": [
       "array([[ 4.43774316],\n",
       "       [ 4.30472774],\n",
       "       [10.26819488],\n",
       "       [ 2.92296671],\n",
       "       [44.89104332]])"
      ]
     },
     "execution_count": 19,
     "metadata": {},
     "output_type": "execute_result"
    }
   ],
   "source": [
    "# check the denominator itself\n",
    "expA.sum(axis=1, keepdims=True)[0:5]"
   ]
  },
  {
   "cell_type": "code",
   "execution_count": 20,
   "metadata": {},
   "outputs": [
    {
     "data": {
      "text/plain": [
       "(100, 1)"
      ]
     },
     "execution_count": 20,
     "metadata": {},
     "output_type": "execute_result"
    }
   ],
   "source": [
    "expA.sum(axis=1, keepdims=True).shape"
   ]
  },
  {
   "cell_type": "code",
   "execution_count": null,
   "metadata": {},
   "outputs": [],
   "source": []
  }
 ],
 "metadata": {
  "kernelspec": {
   "display_name": "Python 3",
   "language": "python",
   "name": "python3"
  },
  "language_info": {
   "codemirror_mode": {
    "name": "ipython",
    "version": 3
   },
   "file_extension": ".py",
   "mimetype": "text/x-python",
   "name": "python",
   "nbconvert_exporter": "python",
   "pygments_lexer": "ipython3",
   "version": "3.7.3"
  }
 },
 "nbformat": 4,
 "nbformat_minor": 2
}
