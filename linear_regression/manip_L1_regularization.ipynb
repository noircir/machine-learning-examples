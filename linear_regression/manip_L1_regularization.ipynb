{
 "cells": [
  {
   "cell_type": "code",
   "execution_count": 76,
   "metadata": {},
   "outputs": [],
   "source": [
    "import numpy as np\n",
    "import matplotlib.pyplot as plt"
   ]
  },
  {
   "cell_type": "code",
   "execution_count": 83,
   "metadata": {},
   "outputs": [
    {
     "data": {
      "text/plain": [
       "(50, 50)"
      ]
     },
     "execution_count": 83,
     "metadata": {},
     "output_type": "execute_result"
    }
   ],
   "source": [
    "# Square matrix\n",
    "\n",
    "N = 50\n",
    "D = 50\n",
    "\n",
    "# uniformly distributed numbers between -5, +5\n",
    "X = (np.random.random_sample((N, D)) - 0.5)*10\n",
    "\n",
    "X\n",
    "X.shape"
   ]
  },
  {
   "cell_type": "code",
   "execution_count": 89,
   "metadata": {},
   "outputs": [],
   "source": [
    "# create outliers \n",
    "X[1] += 30\n",
    "#X[-2] += 10"
   ]
  },
  {
   "cell_type": "code",
   "execution_count": 90,
   "metadata": {},
   "outputs": [
    {
     "data": {
      "text/plain": [
       "array([ 1. ,  0.5, -0.5,  0. ,  0. ,  0. ,  0. ,  0. ,  0. ,  0. ,  0. ,\n",
       "        0. ,  0. ,  0. ,  0. ,  0. ,  0. ,  0. ,  0. ,  0. ,  0. ,  0. ,\n",
       "        0. ,  0. ,  0. ,  0. ,  0. ,  0. ,  0. ,  0. ,  0. ,  0. ,  0. ,\n",
       "        0. ,  0. ,  0. ,  0. ,  0. ,  0. ,  0. ,  0. ,  0. ,  0. ,  0. ,\n",
       "        0. ,  0. ,  0. ,  0. ,  0. ,  0. ])"
      ]
     },
     "execution_count": 90,
     "metadata": {},
     "output_type": "execute_result"
    }
   ],
   "source": [
    "# true weights - only the first 3 dimensions of X affect Y\n",
    "true_w = np.array([1, 0.5, -0.5] + [0]*(D - 3))\n",
    "true_w"
   ]
  },
  {
   "cell_type": "code",
   "execution_count": 91,
   "metadata": {},
   "outputs": [
    {
     "data": {
      "text/plain": [
       "(50,)"
      ]
     },
     "execution_count": 91,
     "metadata": {},
     "output_type": "execute_result"
    }
   ],
   "source": [
    "# generate Y - add noise\n",
    "Y = X.dot(true_w) + np.random.randn(N)*0.5\n",
    "Y.shape"
   ]
  },
  {
   "cell_type": "code",
   "execution_count": null,
   "metadata": {},
   "outputs": [],
   "source": []
  },
  {
   "cell_type": "code",
   "execution_count": 92,
   "metadata": {},
   "outputs": [
    {
     "data": {
      "text/plain": [
       "[<matplotlib.lines.Line2D at 0x121594d68>]"
      ]
     },
     "execution_count": 92,
     "metadata": {},
     "output_type": "execute_result"
    },
    {
     "data": {
      "image/png": "[encoded data removed]",
      "text/plain": [
       "<Figure size 432x288 with 1 Axes>"
      ]
     },
     "metadata": {
      "needs_background": "light"
     },
     "output_type": "display_data"
    }
   ],
   "source": [
    "# gradient descent\n",
    "\n",
    "costs = [] # keep track of squared error cost\n",
    "w = np.random.randn(D) / np.sqrt(D) # randomly initialize w\n",
    "learning_rate = 0.001  \n",
    "L1 = 10       # Also try 5.0, 2.0, 1.0, 0.1 - what effect does it have on w?\n",
    "\n",
    "for t in range(100): \n",
    "  # update w\n",
    "  Yhat = X.dot(w)\n",
    "  delta = Yhat - Y\n",
    "  w = w - learning_rate*(X.T.dot(delta) + L1*np.sign(w))\n",
    "    \n",
    "    # find and store the cost\n",
    "  mse = delta.dot(delta) / N\n",
    "  costs.append(mse)\n",
    "\n",
    "# plot the costs\n",
    "plt.plot(costs)"
   ]
  },
  {
   "cell_type": "code",
   "execution_count": 93,
   "metadata": {},
   "outputs": [
    {
     "name": "stdout",
     "output_type": "stream",
     "text": [
      "final w: [-2.79232368e+223 -2.73734041e+223 -2.54966621e+223 -2.79958045e+223\n",
      " -2.50944630e+223 -2.77191091e+223 -2.62104377e+223 -2.93535770e+223\n",
      " -2.52487212e+223 -2.87364813e+223 -2.75251225e+223 -2.52398635e+223\n",
      " -2.75731914e+223 -2.55284518e+223 -2.92700103e+223 -2.51758048e+223\n",
      " -2.66888189e+223 -2.67435777e+223 -2.81262459e+223 -2.54020020e+223\n",
      " -2.78390852e+223 -2.65133724e+223 -2.87829655e+223 -2.92996181e+223\n",
      " -2.76697915e+223 -2.66312670e+223 -2.49775471e+223 -2.67987643e+223\n",
      " -2.74866922e+223 -2.88783724e+223 -2.75081130e+223 -2.65866902e+223\n",
      " -2.94165550e+223 -2.83132599e+223 -2.71402227e+223 -2.91966398e+223\n",
      " -2.90873144e+223 -2.92150801e+223 -2.68339828e+223 -2.52771096e+223\n",
      " -2.90206990e+223 -2.74110364e+223 -2.82643738e+223 -2.64599632e+223\n",
      " -2.67360444e+223 -2.56039748e+223 -2.89018465e+223 -2.64211003e+223\n",
      " -2.67968804e+223 -2.77511295e+223]\n"
     ]
    },
    {
     "data": {
      "text/plain": [
       "<matplotlib.legend.Legend at 0x12167a4a8>"
      ]
     },
     "execution_count": 93,
     "metadata": {},
     "output_type": "execute_result"
    },
    {
     "data": {
      "image/png": "[encoded data removed]",
      "text/plain": [
       "<Figure size 432x288 with 1 Axes>"
      ]
     },
     "metadata": {
      "needs_background": "light"
     },
     "output_type": "display_data"
    }
   ],
   "source": [
    "print(\"final w:\", w)\n",
    "\n",
    "# plot our w vs true w\n",
    "plt.plot(true_w, label='true w')\n",
    "plt.plot(w, label='w_map')\n",
    "plt.legend()"
   ]
  },
  {
   "cell_type": "code",
   "execution_count": null,
   "metadata": {},
   "outputs": [],
   "source": []
  }
 ],
 "metadata": {
  "kernelspec": {
   "display_name": "Python 3",
   "language": "python",
   "name": "python3"
  },
  "language_info": {
   "codemirror_mode": {
    "name": "ipython",
    "version": 3
   },
   "file_extension": ".py",
   "mimetype": "text/x-python",
   "name": "python",
   "nbconvert_exporter": "python",
   "pygments_lexer": "ipython3",
   "version": "3.7.3"
  }
 },
 "nbformat": 4,
 "nbformat_minor": 2
}
