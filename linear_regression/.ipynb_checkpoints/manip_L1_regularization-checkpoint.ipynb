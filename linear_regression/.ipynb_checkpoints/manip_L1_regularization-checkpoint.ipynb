{
 "cells": [
  {
   "cell_type": "code",
   "execution_count": 76,
   "metadata": {},
   "outputs": [],
   "source": [
    "import numpy as np\n",
    "import matplotlib.pyplot as plt"
   ]
  },
  {
   "cell_type": "code",
   "execution_count": 83,
   "metadata": {},
   "outputs": [
    {
     "data": {
      "text/plain": [
       "(50, 50)"
      ]
     },
     "execution_count": 83,
     "metadata": {},
     "output_type": "execute_result"
    }
   ],
   "source": [
    "# Square matrix\n",
    "\n",
    "N = 50\n",
    "D = 50\n",
    "\n",
    "# uniformly distributed numbers between -5, +5\n",
    "X = (np.random.random_sample((N, D)) - 0.5)*10\n",
    "\n",
    "X\n",
    "X.shape"
   ]
  },
  {
   "cell_type": "code",
   "execution_count": 84,
   "metadata": {},
   "outputs": [],
   "source": [
    "# create outliers \n",
    "X[1] += 30\n",
    "#X[-2] += 10"
   ]
  },
  {
   "cell_type": "code",
   "execution_count": 85,
   "metadata": {},
   "outputs": [
    {
     "data": {
      "text/plain": [
       "array([ 1. ,  0.5, -0.5,  0. ,  0. ,  0. ,  0. ,  0. ,  0. ,  0. ,  0. ,\n",
       "        0. ,  0. ,  0. ,  0. ,  0. ,  0. ,  0. ,  0. ,  0. ,  0. ,  0. ,\n",
       "        0. ,  0. ,  0. ,  0. ,  0. ,  0. ,  0. ,  0. ,  0. ,  0. ,  0. ,\n",
       "        0. ,  0. ,  0. ,  0. ,  0. ,  0. ,  0. ,  0. ,  0. ,  0. ,  0. ,\n",
       "        0. ,  0. ,  0. ,  0. ,  0. ,  0. ])"
      ]
     },
     "execution_count": 85,
     "metadata": {},
     "output_type": "execute_result"
    }
   ],
   "source": [
    "# true weights - only the first 3 dimensions of X affect Y\n",
    "true_w = np.array([1, 0.5, -0.5] + [0]*(D - 3))\n",
    "true_w"
   ]
  },
  {
   "cell_type": "code",
   "execution_count": 86,
   "metadata": {},
   "outputs": [
    {
     "data": {
      "text/plain": [
       "(50,)"
      ]
     },
     "execution_count": 86,
     "metadata": {},
     "output_type": "execute_result"
    }
   ],
   "source": [
    "# generate Y - add noise\n",
    "Y = X.dot(true_w) + np.random.randn(N)*0.5\n",
    "Y.shape"
   ]
  },
  {
   "cell_type": "code",
   "execution_count": null,
   "metadata": {},
   "outputs": [],
   "source": []
  },
  {
   "cell_type": "code",
   "execution_count": 87,
   "metadata": {},
   "outputs": [
    {
     "data": {
      "text/plain": [
       "[<matplotlib.lines.Line2D at 0x1213f97b8>]"
      ]
     },
     "execution_count": 87,
     "metadata": {},
     "output_type": "execute_result"
    },
    {
     "data": {
      "image/png": "[encoded data removed]",
      "text/plain": [
       "<Figure size 432x288 with 1 Axes>"
      ]
     },
     "metadata": {
      "needs_background": "light"
     },
     "output_type": "display_data"
    }
   ],
   "source": [
    "# gradient descent\n",
    "\n",
    "costs = [] # keep track of squared error cost\n",
    "w = np.random.randn(D) / np.sqrt(D) # randomly initialize w\n",
    "learning_rate = 0.001  \n",
    "L1 = 1       # Also try 5.0, 2.0, 1.0, 0.1 - what effect does it have on w?\n",
    "\n",
    "for t in range(100): \n",
    "  # update w\n",
    "  Yhat = X.dot(w)\n",
    "  delta = Yhat - Y\n",
    "  w = w - learning_rate*(X.T.dot(delta) + L1*np.sign(w))\n",
    "    \n",
    "    # find and store the cost\n",
    "  mse = delta.dot(delta) / N\n",
    "  costs.append(mse)\n",
    "\n",
    "# plot the costs\n",
    "plt.plot(costs)"
   ]
  },
  {
   "cell_type": "code",
   "execution_count": 82,
   "metadata": {},
   "outputs": [
    {
     "name": "stdout",
     "output_type": "stream",
     "text": [
      "final w: [ 1.01278302e+00  4.56035559e-01 -4.65147169e-01 -7.74297627e-03\n",
      "  4.39247687e-03 -1.79730607e-02  1.81078393e-02 -3.87014614e-02\n",
      "  5.82611114e-02  3.83249386e-02 -6.23047308e-03  6.93784422e-03\n",
      " -1.61422664e-03  5.48283019e-02 -3.37985588e-02 -1.29790596e-03\n",
      " -6.77100547e-03 -5.99274575e-02  2.25441380e-02 -1.76677827e-03\n",
      "  1.64299544e-03 -3.68655547e-02 -2.21384173e-02  1.61827179e-02\n",
      " -7.60417403e-04 -2.91901784e-02 -5.11501699e-04 -2.60886541e-02\n",
      " -2.08499823e-02  2.53843669e-02  2.08331960e-02 -1.15690878e-02\n",
      "  8.19803016e-02 -3.70361387e-04  5.52897056e-02 -1.86252287e-02\n",
      "  6.81571314e-04 -6.45175292e-02 -4.53113642e-05  7.14850001e-02\n",
      " -8.32476912e-04  2.17908907e-02  1.26795797e-02  2.97240622e-02\n",
      "  9.79650457e-03  5.45426556e-02 -1.44954760e-04  4.29015568e-04\n",
      " -4.85618460e-02 -2.98558444e-03]\n"
     ]
    },
    {
     "data": {
      "text/plain": [
       "<matplotlib.legend.Legend at 0x121323eb8>"
      ]
     },
     "execution_count": 82,
     "metadata": {},
     "output_type": "execute_result"
    },
    {
     "data": {
      "image/png": "[encoded data removed]",
      "text/plain": [
       "<Figure size 432x288 with 1 Axes>"
      ]
     },
     "metadata": {
      "needs_background": "light"
     },
     "output_type": "display_data"
    }
   ],
   "source": [
    "print(\"final w:\", w)\n",
    "\n",
    "# plot our w vs true w\n",
    "plt.plot(true_w, label='true w')\n",
    "plt.plot(w, label='w_map')\n",
    "plt.legend()"
   ]
  },
  {
   "cell_type": "code",
   "execution_count": null,
   "metadata": {},
   "outputs": [],
   "source": []
  }
 ],
 "metadata": {
  "kernelspec": {
   "display_name": "Python 3",
   "language": "python",
   "name": "python3"
  },
  "language_info": {
   "codemirror_mode": {
    "name": "ipython",
    "version": 3
   },
   "file_extension": ".py",
   "mimetype": "text/x-python",
   "name": "python",
   "nbconvert_exporter": "python",
   "pygments_lexer": "ipython3",
   "version": "3.7.3"
  }
 },
 "nbformat": 4,
 "nbformat_minor": 2
}
