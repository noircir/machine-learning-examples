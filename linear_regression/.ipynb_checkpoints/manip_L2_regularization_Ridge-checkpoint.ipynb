{
 "cells": [
  {
   "cell_type": "code",
   "execution_count": 83,
   "metadata": {},
   "outputs": [],
   "source": [
    "import numpy as np\n",
    "import matplotlib.pyplot as plt\n",
    "%matplotlib inline"
   ]
  },
  {
   "cell_type": "code",
   "execution_count": 84,
   "metadata": {},
   "outputs": [
    {
     "name": "stdout",
     "output_type": "stream",
     "text": [
      "[ 0.          0.20408163  0.40816327  0.6122449   0.81632653  1.02040816\n",
      "  1.2244898   1.42857143  1.63265306  1.83673469  2.04081633  2.24489796\n",
      "  2.44897959  2.65306122  2.85714286  3.06122449  3.26530612  3.46938776\n",
      "  3.67346939  3.87755102  4.08163265  4.28571429  4.48979592  4.69387755\n",
      "  4.89795918  5.10204082  5.30612245  5.51020408  5.71428571  5.91836735\n",
      "  6.12244898  6.32653061  6.53061224  6.73469388  6.93877551  7.14285714\n",
      "  7.34693878  7.55102041  7.75510204  7.95918367  8.16326531  8.36734694\n",
      "  8.57142857  8.7755102   8.97959184  9.18367347  9.3877551   9.59183673\n",
      "  9.79591837 10.        ]\n",
      "[ 1.49682564e-02 -1.73258321e-01  8.16510862e-01 -1.63751093e-01\n",
      "  4.12775322e-01  7.44620617e-01  9.50903043e-01  6.51960289e-01\n",
      "  2.46521857e+00  4.48477788e-01  1.53918189e+00  2.49416396e+00\n",
      "  2.43253713e+00  9.36960644e-01  1.04752539e+00 -6.23614602e-04\n",
      "  9.86391667e-01  1.90351195e+00  2.85008913e+00  2.14822322e+00\n",
      "  2.08676194e+00  1.82385063e+00  2.03261867e+00  3.34277973e+00\n",
      "  3.12146820e+00  2.72950101e+00  3.39749131e+00  4.70113215e+00\n",
      "  1.36598997e+00  2.40269908e+00  3.30514397e+00  3.06945982e+00\n",
      "  3.41679884e+00  3.76027610e+00  3.38886348e+00  2.87159587e+00\n",
      "  4.33693704e+00  3.68702857e+00  5.82174926e+00  2.65346569e+00\n",
      "  4.53238209e+00  3.48766331e+00  5.28334721e+00  4.36166398e+00\n",
      "  4.09275198e+00  2.95372074e+00  4.75703404e+00  4.02392872e+00\n",
      "  6.86417999e+00  3.38789465e+00]\n",
      "<class 'numpy.ndarray'>\n"
     ]
    }
   ],
   "source": [
    "# create X and Y\n",
    "N = 50\n",
    "X = np.linspace(0,10,N)\n",
    "Y = 0.5*X + np.random.randn(N)  # adding two arrays element-wise \n",
    "print(X)\n",
    "print(Y)\n",
    "print(type(X))"
   ]
  },
  {
   "cell_type": "code",
   "execution_count": 85,
   "metadata": {},
   "outputs": [
    {
     "data": {
      "text/plain": [
       "<matplotlib.collections.PathCollection at 0x121375c50>"
      ]
     },
     "execution_count": 85,
     "metadata": {},
     "output_type": "execute_result"
    },
    {
     "data": {
      "image/png": "[encoded data removed]",
      "text/plain": [
       "<Figure size 432x288 with 1 Axes>"
      ]
     },
     "metadata": {
      "needs_background": "light"
     },
     "output_type": "display_data"
    }
   ],
   "source": [
    "# make outliers: last and second last \n",
    "Y[-1] += 30\n",
    "Y[-2] += 10\n",
    "\n",
    "plt.scatter(X,Y)"
   ]
  },
  {
   "cell_type": "code",
   "execution_count": 86,
   "metadata": {},
   "outputs": [
    {
     "name": "stdout",
     "output_type": "stream",
     "text": [
      "========================================\n",
      "Array X\n",
      "========================================\n",
      "[ 0.          0.20408163  0.40816327  0.6122449   0.81632653  1.02040816\n",
      "  1.2244898   1.42857143  1.63265306  1.83673469  2.04081633  2.24489796\n",
      "  2.44897959  2.65306122  2.85714286  3.06122449  3.26530612  3.46938776\n",
      "  3.67346939  3.87755102  4.08163265  4.28571429  4.48979592  4.69387755\n",
      "  4.89795918  5.10204082  5.30612245  5.51020408  5.71428571  5.91836735\n",
      "  6.12244898  6.32653061  6.53061224  6.73469388  6.93877551  7.14285714\n",
      "  7.34693878  7.55102041  7.75510204  7.95918367  8.16326531  8.36734694\n",
      "  8.57142857  8.7755102   8.97959184  9.18367347  9.3877551   9.59183673\n",
      "  9.79591837 10.        ]\n",
      "========================================\n",
      "List of two arrays, ones and X\n",
      "========================================\n",
      "[array([1., 1., 1., 1., 1., 1., 1., 1., 1., 1., 1., 1., 1., 1., 1., 1., 1.,\n",
      "       1., 1., 1., 1., 1., 1., 1., 1., 1., 1., 1., 1., 1., 1., 1., 1., 1.,\n",
      "       1., 1., 1., 1., 1., 1., 1., 1., 1., 1., 1., 1., 1., 1., 1., 1.]), array([ 0.        ,  0.20408163,  0.40816327,  0.6122449 ,  0.81632653,\n",
      "        1.02040816,  1.2244898 ,  1.42857143,  1.63265306,  1.83673469,\n",
      "        2.04081633,  2.24489796,  2.44897959,  2.65306122,  2.85714286,\n",
      "        3.06122449,  3.26530612,  3.46938776,  3.67346939,  3.87755102,\n",
      "        4.08163265,  4.28571429,  4.48979592,  4.69387755,  4.89795918,\n",
      "        5.10204082,  5.30612245,  5.51020408,  5.71428571,  5.91836735,\n",
      "        6.12244898,  6.32653061,  6.53061224,  6.73469388,  6.93877551,\n",
      "        7.14285714,  7.34693878,  7.55102041,  7.75510204,  7.95918367,\n",
      "        8.16326531,  8.36734694,  8.57142857,  8.7755102 ,  8.97959184,\n",
      "        9.18367347,  9.3877551 ,  9.59183673,  9.79591837, 10.        ])]\n",
      "<class 'list'>\n",
      "========================================\n",
      "Matrice 2x50\n",
      "========================================\n",
      "[[ 1.          1.          1.          1.          1.          1.\n",
      "   1.          1.          1.          1.          1.          1.\n",
      "   1.          1.          1.          1.          1.          1.\n",
      "   1.          1.          1.          1.          1.          1.\n",
      "   1.          1.          1.          1.          1.          1.\n",
      "   1.          1.          1.          1.          1.          1.\n",
      "   1.          1.          1.          1.          1.          1.\n",
      "   1.          1.          1.          1.          1.          1.\n",
      "   1.          1.        ]\n",
      " [ 0.          0.20408163  0.40816327  0.6122449   0.81632653  1.02040816\n",
      "   1.2244898   1.42857143  1.63265306  1.83673469  2.04081633  2.24489796\n",
      "   2.44897959  2.65306122  2.85714286  3.06122449  3.26530612  3.46938776\n",
      "   3.67346939  3.87755102  4.08163265  4.28571429  4.48979592  4.69387755\n",
      "   4.89795918  5.10204082  5.30612245  5.51020408  5.71428571  5.91836735\n",
      "   6.12244898  6.32653061  6.53061224  6.73469388  6.93877551  7.14285714\n",
      "   7.34693878  7.55102041  7.75510204  7.95918367  8.16326531  8.36734694\n",
      "   8.57142857  8.7755102   8.97959184  9.18367347  9.3877551   9.59183673\n",
      "   9.79591837 10.        ]]\n",
      "========================================\n",
      "Transposed matrix 50x2\n",
      "========================================\n",
      "[[ 1.          0.        ]\n",
      " [ 1.          0.20408163]\n",
      " [ 1.          0.40816327]\n",
      " [ 1.          0.6122449 ]\n",
      " [ 1.          0.81632653]\n",
      " [ 1.          1.02040816]\n",
      " [ 1.          1.2244898 ]\n",
      " [ 1.          1.42857143]\n",
      " [ 1.          1.63265306]\n",
      " [ 1.          1.83673469]\n",
      " [ 1.          2.04081633]\n",
      " [ 1.          2.24489796]\n",
      " [ 1.          2.44897959]\n",
      " [ 1.          2.65306122]\n",
      " [ 1.          2.85714286]\n",
      " [ 1.          3.06122449]\n",
      " [ 1.          3.26530612]\n",
      " [ 1.          3.46938776]\n",
      " [ 1.          3.67346939]\n",
      " [ 1.          3.87755102]\n",
      " [ 1.          4.08163265]\n",
      " [ 1.          4.28571429]\n",
      " [ 1.          4.48979592]\n",
      " [ 1.          4.69387755]\n",
      " [ 1.          4.89795918]\n",
      " [ 1.          5.10204082]\n",
      " [ 1.          5.30612245]\n",
      " [ 1.          5.51020408]\n",
      " [ 1.          5.71428571]\n",
      " [ 1.          5.91836735]\n",
      " [ 1.          6.12244898]\n",
      " [ 1.          6.32653061]\n",
      " [ 1.          6.53061224]\n",
      " [ 1.          6.73469388]\n",
      " [ 1.          6.93877551]\n",
      " [ 1.          7.14285714]\n",
      " [ 1.          7.34693878]\n",
      " [ 1.          7.55102041]\n",
      " [ 1.          7.75510204]\n",
      " [ 1.          7.95918367]\n",
      " [ 1.          8.16326531]\n",
      " [ 1.          8.36734694]\n",
      " [ 1.          8.57142857]\n",
      " [ 1.          8.7755102 ]\n",
      " [ 1.          8.97959184]\n",
      " [ 1.          9.18367347]\n",
      " [ 1.          9.3877551 ]\n",
      " [ 1.          9.59183673]\n",
      " [ 1.          9.79591837]\n",
      " [ 1.         10.        ]]\n"
     ]
    }
   ],
   "source": [
    "# Add a column of ones to X, in three steps:\n",
    "# ==========================================\n",
    "print('=' * 40)\n",
    "print('Array X')\n",
    "print('=' * 40)\n",
    "print(X)\n",
    "\n",
    "# 1. Create a list of two arrays, ones and X\n",
    "print('=' * 40)\n",
    "print('List of two arrays, ones and X')\n",
    "print('=' * 40)\n",
    "X = [np.ones(N), X]\n",
    "print(X)\n",
    "print(type(X))\n",
    "\n",
    "# 2. Stack these two arrays on top of each other\n",
    "print('=' * 40)\n",
    "print('Matrice 2x50')\n",
    "print('=' * 40)\n",
    "X = np.vstack(X) # matrix 2x50\n",
    "print(X)\n",
    "\n",
    "# 3. Transpose them so they are side by side\n",
    "print('=' * 40)\n",
    "print('Transposed matrix 50x2')  \n",
    "print('=' * 40)\n",
    "X = X.T          # matrix 50x2\n",
    "print(X)"
   ]
  },
  {
   "cell_type": "code",
   "execution_count": 87,
   "metadata": {},
   "outputs": [
    {
     "data": {
      "text/plain": [
       "[<matplotlib.lines.Line2D at 0x1212fae48>]"
      ]
     },
     "execution_count": 87,
     "metadata": {},
     "output_type": "execute_result"
    },
    {
     "data": {
      "image/png": "[encoded data removed]",
      "text/plain": [
       "<Figure size 432x288 with 1 Axes>"
      ]
     },
     "metadata": {
      "needs_background": "light"
     },
     "output_type": "display_data"
    }
   ],
   "source": [
    "# Solve for weights\n",
    "w_ml = np.linalg.solve(X.T.dot(X), X.T.dot(Y))\n",
    "\n",
    "# LR line that considers outliers\n",
    "Yhat_ml = X.dot(w_ml)\n",
    "\n",
    "plt.scatter(X[:,1],Y)\n",
    "plt.plot(X[:,1],Yhat_ml, color=\"orange\")"
   ]
  },
  {
   "cell_type": "code",
   "execution_count": 89,
   "metadata": {},
   "outputs": [
    {
     "data": {
      "text/plain": [
       "<matplotlib.legend.Legend at 0x1215fb978>"
      ]
     },
     "execution_count": 89,
     "metadata": {},
     "output_type": "execute_result"
    },
    {
     "data": {
      "image/png": "[encoded data removed]",
      "text/plain": [
       "<Figure size 432x288 with 1 Axes>"
      ]
     },
     "metadata": {
      "needs_background": "light"
     },
     "output_type": "display_data"
    }
   ],
   "source": [
    "# L2, or Ridge, regularization. L2 = lambda\n",
    "L2 = 1000\n",
    "\n",
    "w_map = np.linalg.solve(X.T.dot(X) + L2*np.eye(2), X.T.dot(Y))# LR line that considers outliers\n",
    "Yhat_map = X.dot(w_map)\n",
    "\n",
    "plt.scatter(X[:,1],Y)\n",
    "plt.plot(X[:,1],Yhat_ml, color=\"orange\", label='maximum likelihood')\n",
    "plt.plot(X[:,1],Yhat_map, color=\"green\", label='map')\n",
    "plt.legend()"
   ]
  },
  {
   "cell_type": "code",
   "execution_count": null,
   "metadata": {},
   "outputs": [],
   "source": []
  }
 ],
 "metadata": {
  "kernelspec": {
   "display_name": "Python 3",
   "language": "python",
   "name": "python3"
  },
  "language_info": {
   "codemirror_mode": {
    "name": "ipython",
    "version": 3
   },
   "file_extension": ".py",
   "mimetype": "text/x-python",
   "name": "python",
   "nbconvert_exporter": "python",
   "pygments_lexer": "ipython3",
   "version": "3.7.3"
  }
 },
 "nbformat": 4,
 "nbformat_minor": 2
}
